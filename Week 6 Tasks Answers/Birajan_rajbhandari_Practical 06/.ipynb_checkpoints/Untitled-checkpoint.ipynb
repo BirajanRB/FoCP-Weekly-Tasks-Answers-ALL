{
 "cells": [
  {
   "cell_type": "code",
   "execution_count": 14,
   "id": "fdb691dc",
   "metadata": {},
   "outputs": [],
   "source": [
    "squares = [4, 9, 16, 25]"
   ]
  },
  {
   "cell_type": "code",
   "execution_count": 15,
   "id": "3e92189f",
   "metadata": {},
   "outputs": [
    {
     "name": "stdout",
     "output_type": "stream",
     "text": [
      "2.0\n",
      "3.0\n",
      "4.0\n",
      "5.0\n"
     ]
    }
   ],
   "source": [
    "import math\n",
    "for i in squares:\n",
    "    print(math.sqrt(i))"
   ]
  },
  {
   "cell_type": "code",
   "execution_count": 16,
   "id": "4c210002",
   "metadata": {},
   "outputs": [],
   "source": [
    "values = (49,64,81)\n",
    "for i in values:\n",
    "    squares.append(i)"
   ]
  },
  {
   "cell_type": "code",
   "execution_count": 17,
   "id": "a58c8727",
   "metadata": {},
   "outputs": [],
   "source": [
    "squares.extend([11*11,12*12,13*13])"
   ]
  },
  {
   "cell_type": "code",
   "execution_count": 18,
   "id": "cf768cb1",
   "metadata": {},
   "outputs": [],
   "source": [
    "squares.insert(0,2)"
   ]
  },
  {
   "cell_type": "code",
   "execution_count": 19,
   "id": "d0326978",
   "metadata": {},
   "outputs": [
    {
     "name": "stdout",
     "output_type": "stream",
     "text": [
      "[2, 4, 9, 16, 25, 64, 81, 121, 144, 169]\n"
     ]
    }
   ],
   "source": [
    "squares.remove(49)\n",
    "print(squares)"
   ]
  },
  {
   "cell_type": "code",
   "execution_count": 20,
   "id": "a77a9d20",
   "metadata": {},
   "outputs": [
    {
     "ename": "NameError",
     "evalue": "name 'quares' is not defined",
     "output_type": "error",
     "traceback": [
      "\u001b[1;31m---------------------------------------------------------------------------\u001b[0m",
      "\u001b[1;31mNameError\u001b[0m                                 Traceback (most recent call last)",
      "\u001b[1;32m<ipython-input-20-88cad849da44>\u001b[0m in \u001b[0;36m<module>\u001b[1;34m\u001b[0m\n\u001b[1;32m----> 1\u001b[1;33m \u001b[0mquares\u001b[0m\u001b[1;33m.\u001b[0m\u001b[0mremove\u001b[0m\u001b[1;33m(\u001b[0m\u001b[1;36m3\u001b[0m\u001b[1;33m)\u001b[0m\u001b[1;33m\u001b[0m\u001b[1;33m\u001b[0m\u001b[0m\n\u001b[0m",
      "\u001b[1;31mNameError\u001b[0m: name 'quares' is not defined"
     ]
    }
   ],
   "source": [
    "quares.remove(3)"
   ]
  },
  {
   "cell_type": "code",
   "execution_count": 21,
   "id": "8f4d06af",
   "metadata": {},
   "outputs": [],
   "source": [
    "s_list =  [1, 2, 3, 1, 2]\n",
    "s_list.remove(2)"
   ]
  },
  {
   "cell_type": "code",
   "execution_count": 22,
   "id": "5cae4cff",
   "metadata": {},
   "outputs": [
    {
     "data": {
      "text/plain": [
       "[1, 3, 1, 2]"
      ]
     },
     "execution_count": 22,
     "metadata": {},
     "output_type": "execute_result"
    }
   ],
   "source": [
    "s_list"
   ]
  },
  {
   "cell_type": "code",
   "execution_count": 23,
   "id": "f8131dda",
   "metadata": {},
   "outputs": [
    {
     "name": "stdout",
     "output_type": "stream",
     "text": [
      "169\n"
     ]
    }
   ],
   "source": [
    "print(squares.pop())"
   ]
  },
  {
   "cell_type": "code",
   "execution_count": 24,
   "id": "c8abaa5f",
   "metadata": {},
   "outputs": [
    {
     "name": "stdout",
     "output_type": "stream",
     "text": [
      "[2, 4, 9, 16, 25, 64, 81, 121, 144]\n"
     ]
    }
   ],
   "source": [
    "print(squares)"
   ]
  },
  {
   "cell_type": "code",
   "execution_count": 25,
   "id": "65472490",
   "metadata": {},
   "outputs": [],
   "source": [
    "names = [ \"Eric\", \"anna\", \"Sophie\", \"sam\" ]"
   ]
  },
  {
   "cell_type": "code",
   "execution_count": 27,
   "id": "4e5a0127",
   "metadata": {},
   "outputs": [
    {
     "data": {
      "text/plain": [
       "['Eric', 'Sophie', 'anna', 'sam']"
      ]
     },
     "execution_count": 27,
     "metadata": {},
     "output_type": "execute_result"
    }
   ],
   "source": [
    "names.sort()\n",
    "names"
   ]
  },
  {
   "cell_type": "code",
   "execution_count": 30,
   "id": "c41375ae",
   "metadata": {},
   "outputs": [],
   "source": [
    "names.sort(key= lambda n : n.upper())"
   ]
  },
  {
   "cell_type": "code",
   "execution_count": 31,
   "id": "e50dd051",
   "metadata": {},
   "outputs": [
    {
     "name": "stdout",
     "output_type": "stream",
     "text": [
      "['anna', 'Eric', 'sam', 'Sophie']\n"
     ]
    }
   ],
   "source": [
    "print(names)"
   ]
  },
  {
   "cell_type": "code",
   "execution_count": 32,
   "id": "63f2e5c5",
   "metadata": {},
   "outputs": [
    {
     "name": "stdout",
     "output_type": "stream",
     "text": [
      "[144, 121, 81, 64, 25, 16, 9, 4, 2]\n"
     ]
    }
   ],
   "source": [
    "squares.reverse()\n",
    "print(squares)"
   ]
  },
  {
   "cell_type": "code",
   "execution_count": 42,
   "id": "13addd0d",
   "metadata": {},
   "outputs": [],
   "source": [
    "colours = [\"red\", \"green\", \"yellow\", \"blue\", \"red\"]"
   ]
  },
  {
   "cell_type": "code",
   "execution_count": 43,
   "id": "5e5498d4",
   "metadata": {},
   "outputs": [
    {
     "data": {
      "text/plain": [
       "3"
      ]
     },
     "execution_count": 43,
     "metadata": {},
     "output_type": "execute_result"
    }
   ],
   "source": [
    "colours.index(\"blue\")"
   ]
  },
  {
   "cell_type": "code",
   "execution_count": 46,
   "id": "560d9ba2",
   "metadata": {},
   "outputs": [
    {
     "name": "stdout",
     "output_type": "stream",
     "text": [
      "['red', 'green', 'yellow', 'blue', 'red']\n"
     ]
    }
   ],
   "source": [
    "colour_copy = colours.copy()\n",
    "print(colour_copy)"
   ]
  },
  {
   "cell_type": "code",
   "execution_count": 47,
   "id": "6419866c",
   "metadata": {},
   "outputs": [
    {
     "data": {
      "text/plain": [
       "'red'"
      ]
     },
     "execution_count": 47,
     "metadata": {},
     "output_type": "execute_result"
    }
   ],
   "source": [
    "colours.pop()"
   ]
  },
  {
   "cell_type": "code",
   "execution_count": 48,
   "id": "4d59a3cf",
   "metadata": {},
   "outputs": [
    {
     "name": "stdout",
     "output_type": "stream",
     "text": [
      "['red', 'green', 'yellow', 'blue']\n"
     ]
    }
   ],
   "source": [
    "print(colours)"
   ]
  },
  {
   "cell_type": "code",
   "execution_count": 50,
   "id": "39d45482",
   "metadata": {},
   "outputs": [
    {
     "name": "stdout",
     "output_type": "stream",
     "text": [
      "['red', 'green', 'yellow', 'blue', 'red']\n"
     ]
    }
   ],
   "source": [
    "print(colour_copy)"
   ]
  },
  {
   "cell_type": "code",
   "execution_count": 52,
   "id": "160f6e08",
   "metadata": {},
   "outputs": [
    {
     "data": {
      "text/plain": [
       "[8,\n",
       " 27,\n",
       " 64,\n",
       " 125,\n",
       " 216,\n",
       " 343,\n",
       " 512,\n",
       " 729,\n",
       " 1000,\n",
       " 1331,\n",
       " 1728,\n",
       " 2197,\n",
       " 2744,\n",
       " 3375,\n",
       " 4096,\n",
       " 4913,\n",
       " 5832,\n",
       " 6859,\n",
       " 8000]"
      ]
     },
     "execution_count": 52,
     "metadata": {},
     "output_type": "execute_result"
    }
   ],
   "source": [
    "cubes = [x*x*x for x in range(2,21)]\n",
    "cubes"
   ]
  },
  {
   "cell_type": "raw",
   "id": "e8ed8cf9",
   "metadata": {},
   "source": [
    "some_users = [u for u in all_users if len(u) < 8]\n",
    "\n",
    "All names less then 8 words will be places in the some_users list\n"
   ]
  },
  {
   "cell_type": "code",
   "execution_count": 53,
   "id": "324504d5",
   "metadata": {},
   "outputs": [],
   "source": [
    "address = (8889,\"Maitidevi\",\"po28973\")"
   ]
  },
  {
   "cell_type": "code",
   "execution_count": 54,
   "id": "454fc724",
   "metadata": {},
   "outputs": [
    {
     "data": {
      "text/plain": [
       "tuple"
      ]
     },
     "execution_count": 54,
     "metadata": {},
     "output_type": "execute_result"
    }
   ],
   "source": [
    "t_var = \"element\",\n",
    "type(t_var)"
   ]
  },
  {
   "cell_type": "code",
   "execution_count": 56,
   "id": "0d1396b6",
   "metadata": {},
   "outputs": [],
   "source": [
    "house_num,street,postcode = address"
   ]
  },
  {
   "cell_type": "code",
   "execution_count": 57,
   "id": "08014ef7",
   "metadata": {},
   "outputs": [
    {
     "name": "stdout",
     "output_type": "stream",
     "text": [
      "8889 Maitidevi po28973\n"
     ]
    }
   ],
   "source": [
    "print(house_num,street,postcode)"
   ]
  },
  {
   "cell_type": "code",
   "execution_count": 58,
   "id": "eda2039e",
   "metadata": {},
   "outputs": [
    {
     "name": "stdout",
     "output_type": "stream",
     "text": [
      "8889 Maitidevi po28973\n"
     ]
    }
   ],
   "source": [
    "print(*address)"
   ]
  },
  {
   "cell_type": "code",
   "execution_count": 59,
   "id": "9c089cd5",
   "metadata": {},
   "outputs": [
    {
     "name": "stdout",
     "output_type": "stream",
     "text": [
      "(8889, 'Maitidevi', 'po28973')\n"
     ]
    }
   ],
   "source": [
    "print(address)"
   ]
  },
  {
   "cell_type": "code",
   "execution_count": null,
   "id": "52f74214",
   "metadata": {},
   "outputs": [],
   "source": []
  }
 ],
 "metadata": {
  "kernelspec": {
   "display_name": "Python 3",
   "language": "python",
   "name": "python3"
  },
  "language_info": {
   "codemirror_mode": {
    "name": "ipython",
    "version": 3
   },
   "file_extension": ".py",
   "mimetype": "text/x-python",
   "name": "python",
   "nbconvert_exporter": "python",
   "pygments_lexer": "ipython3",
   "version": "3.8.8"
  }
 },
 "nbformat": 4,
 "nbformat_minor": 5
}
