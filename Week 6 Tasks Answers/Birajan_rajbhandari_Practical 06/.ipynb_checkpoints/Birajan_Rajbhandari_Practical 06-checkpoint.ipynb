{
 "cells": [
  {
   "cell_type": "code",
   "execution_count": 49,
   "id": "fdb691dc",
   "metadata": {},
   "outputs": [],
   "source": [
    "squares = [4, 9, 16, 25]"
   ]
  },
  {
   "cell_type": "code",
   "execution_count": 50,
   "id": "3e92189f",
   "metadata": {},
   "outputs": [
    {
     "name": "stdout",
     "output_type": "stream",
     "text": [
      "2.0\n",
      "3.0\n",
      "4.0\n",
      "5.0\n"
     ]
    }
   ],
   "source": [
    "import math\n",
    "for i in squares:\n",
    "    \n",
    "    print(math.sqrt(i))"
   ]
  },
  {
   "cell_type": "code",
   "execution_count": 51,
   "id": "4c210002",
   "metadata": {},
   "outputs": [
    {
     "name": "stdout",
     "output_type": "stream",
     "text": [
      "[4, 9, 16, 25, 49, 64, 81]\n"
     ]
    }
   ],
   "source": [
    "values = (49,64,81)\n",
    "for i in values:\n",
    "    squares.append(i)\n",
    "    \n",
    "print(squares)"
   ]
  },
  {
   "cell_type": "code",
   "execution_count": 52,
   "id": "a58c8727",
   "metadata": {},
   "outputs": [
    {
     "name": "stdout",
     "output_type": "stream",
     "text": [
      "[4, 9, 16, 25, 49, 64, 81, 121, 144, 169]\n"
     ]
    }
   ],
   "source": [
    "squares.extend([11*11,12*12,13*13])\n",
    "\n",
    "print(squares)"
   ]
  },
  {
   "cell_type": "code",
   "execution_count": 53,
   "id": "cf768cb1",
   "metadata": {},
   "outputs": [
    {
     "name": "stdout",
     "output_type": "stream",
     "text": [
      "[2, 4, 9, 16, 25, 49, 64, 81, 121, 144, 169]\n"
     ]
    }
   ],
   "source": [
    "squares.insert(0,2)\n",
    "\n",
    "print(squares)"
   ]
  },
  {
   "cell_type": "code",
   "execution_count": 54,
   "id": "d0326978",
   "metadata": {},
   "outputs": [
    {
     "name": "stdout",
     "output_type": "stream",
     "text": [
      "[2, 4, 9, 16, 25, 64, 81, 121, 144, 169]\n"
     ]
    }
   ],
   "source": [
    "squares.remove(49)\n",
    "\n",
    "print(squares)"
   ]
  },
  {
   "cell_type": "code",
   "execution_count": 55,
   "id": "a77a9d20",
   "metadata": {},
   "outputs": [
    {
     "ename": "ValueError",
     "evalue": "list.remove(x): x not in list",
     "output_type": "error",
     "traceback": [
      "\u001b[1;31m---------------------------------------------------------------------------\u001b[0m",
      "\u001b[1;31mValueError\u001b[0m                                Traceback (most recent call last)",
      "\u001b[1;32m<ipython-input-55-a5f185637c6a>\u001b[0m in \u001b[0;36m<module>\u001b[1;34m\u001b[0m\n\u001b[1;32m----> 1\u001b[1;33m \u001b[0msquares\u001b[0m\u001b[1;33m.\u001b[0m\u001b[0mremove\u001b[0m\u001b[1;33m(\u001b[0m\u001b[1;36m3\u001b[0m\u001b[1;33m)\u001b[0m\u001b[1;33m\u001b[0m\u001b[1;33m\u001b[0m\u001b[0m\n\u001b[0m",
      "\u001b[1;31mValueError\u001b[0m: list.remove(x): x not in list"
     ]
    }
   ],
   "source": [
    "squares.remove(3)"
   ]
  },
  {
   "cell_type": "code",
   "execution_count": 56,
   "id": "8f4d06af",
   "metadata": {},
   "outputs": [
    {
     "name": "stdout",
     "output_type": "stream",
     "text": [
      "[1, 2, 3, 1, 2]\n"
     ]
    }
   ],
   "source": [
    "s_list =  [1, 2, 3, 1, 2]\n",
    "\n",
    "print(s_list)"
   ]
  },
  {
   "cell_type": "code",
   "execution_count": 57,
   "id": "c87d76a7",
   "metadata": {},
   "outputs": [
    {
     "name": "stdout",
     "output_type": "stream",
     "text": [
      "[1, 3, 1, 2]\n"
     ]
    }
   ],
   "source": [
    "s_list.remove(2)\n",
    "\n",
    "print(s_list)"
   ]
  },
  {
   "cell_type": "code",
   "execution_count": 58,
   "id": "f8131dda",
   "metadata": {},
   "outputs": [
    {
     "name": "stdout",
     "output_type": "stream",
     "text": [
      "169\n"
     ]
    }
   ],
   "source": [
    "print(squares.pop())"
   ]
  },
  {
   "cell_type": "code",
   "execution_count": 59,
   "id": "c8abaa5f",
   "metadata": {},
   "outputs": [
    {
     "name": "stdout",
     "output_type": "stream",
     "text": [
      "[2, 4, 9, 16, 25, 64, 81, 121, 144]\n"
     ]
    }
   ],
   "source": [
    "print(squares)"
   ]
  },
  {
   "cell_type": "code",
   "execution_count": 60,
   "id": "40b2d2cc",
   "metadata": {},
   "outputs": [
    {
     "name": "stdout",
     "output_type": "stream",
     "text": [
      "2\n"
     ]
    }
   ],
   "source": [
    "print(squares.pop(0))"
   ]
  },
  {
   "cell_type": "code",
   "execution_count": 61,
   "id": "a19ff638",
   "metadata": {},
   "outputs": [
    {
     "name": "stdout",
     "output_type": "stream",
     "text": [
      "[4, 9, 16, 25, 64, 81, 121, 144]\n"
     ]
    }
   ],
   "source": [
    "print(squares)"
   ]
  },
  {
   "cell_type": "code",
   "execution_count": 62,
   "id": "65472490",
   "metadata": {},
   "outputs": [],
   "source": [
    "names = [ \"Eric\", \"anna\", \"Sophie\", \"sam\" ]"
   ]
  },
  {
   "cell_type": "code",
   "execution_count": 63,
   "id": "4e5a0127",
   "metadata": {},
   "outputs": [
    {
     "name": "stdout",
     "output_type": "stream",
     "text": [
      "['Eric', 'Sophie', 'anna', 'sam']\n"
     ]
    }
   ],
   "source": [
    "names.sort()\n",
    "\n",
    "print(names)"
   ]
  },
  {
   "cell_type": "code",
   "execution_count": 64,
   "id": "c41375ae",
   "metadata": {},
   "outputs": [],
   "source": [
    "names.sort(key= lambda n : n.upper())"
   ]
  },
  {
   "cell_type": "code",
   "execution_count": 65,
   "id": "e50dd051",
   "metadata": {},
   "outputs": [
    {
     "name": "stdout",
     "output_type": "stream",
     "text": [
      "['anna', 'Eric', 'sam', 'Sophie']\n"
     ]
    }
   ],
   "source": [
    "print(names)"
   ]
  },
  {
   "cell_type": "code",
   "execution_count": 66,
   "id": "63f2e5c5",
   "metadata": {},
   "outputs": [
    {
     "name": "stdout",
     "output_type": "stream",
     "text": [
      "[144, 121, 81, 64, 25, 16, 9, 4]\n"
     ]
    }
   ],
   "source": [
    "squares.reverse()\n",
    "print(squares)"
   ]
  },
  {
   "cell_type": "code",
   "execution_count": 67,
   "id": "13addd0d",
   "metadata": {},
   "outputs": [],
   "source": [
    "colours = [\"red\", \"green\", \"yellow\", \"blue\", \"red\"]"
   ]
  },
  {
   "cell_type": "code",
   "execution_count": 68,
   "id": "5e5498d4",
   "metadata": {},
   "outputs": [
    {
     "name": "stdout",
     "output_type": "stream",
     "text": [
      "3\n"
     ]
    }
   ],
   "source": [
    "print(colours.index(\"blue\"))"
   ]
  },
  {
   "cell_type": "code",
   "execution_count": 69,
   "id": "560d9ba2",
   "metadata": {},
   "outputs": [
    {
     "name": "stdout",
     "output_type": "stream",
     "text": [
      "['red', 'green', 'yellow', 'blue', 'red']\n"
     ]
    }
   ],
   "source": [
    "colour_copy = colours.copy()\n",
    "print(colour_copy)"
   ]
  },
  {
   "cell_type": "code",
   "execution_count": 70,
   "id": "6419866c",
   "metadata": {},
   "outputs": [
    {
     "data": {
      "text/plain": [
       "'red'"
      ]
     },
     "execution_count": 70,
     "metadata": {},
     "output_type": "execute_result"
    }
   ],
   "source": [
    "colours.pop()"
   ]
  },
  {
   "cell_type": "code",
   "execution_count": 71,
   "id": "4d59a3cf",
   "metadata": {},
   "outputs": [
    {
     "name": "stdout",
     "output_type": "stream",
     "text": [
      "['red', 'green', 'yellow', 'blue']\n"
     ]
    }
   ],
   "source": [
    "print(colours)"
   ]
  },
  {
   "cell_type": "code",
   "execution_count": 72,
   "id": "39d45482",
   "metadata": {},
   "outputs": [
    {
     "name": "stdout",
     "output_type": "stream",
     "text": [
      "['red', 'green', 'yellow', 'blue', 'red']\n"
     ]
    }
   ],
   "source": [
    "print(colour_copy)"
   ]
  },
  {
   "cell_type": "code",
   "execution_count": 73,
   "id": "160f6e08",
   "metadata": {},
   "outputs": [
    {
     "name": "stdout",
     "output_type": "stream",
     "text": [
      "[8, 27, 64, 125, 216, 343, 512, 729, 1000, 1331, 1728, 2197, 2744, 3375, 4096, 4913, 5832, 6859, 8000]\n"
     ]
    }
   ],
   "source": [
    "cubes = [x*x*x for x in range(2,21)]\n",
    "print(cubes)"
   ]
  },
  {
   "cell_type": "raw",
   "id": "e8ed8cf9",
   "metadata": {},
   "source": [
    "some_users = [u for u in all_users if len(u) < 8]\n",
    "\n",
    "#All names less then 8 words will be places in the some_users list."
   ]
  },
  {
   "cell_type": "code",
   "execution_count": 74,
   "id": "324504d5",
   "metadata": {},
   "outputs": [],
   "source": [
    "address = (8889,\"Maitidevi\",\"po28973\")"
   ]
  },
  {
   "cell_type": "code",
   "execution_count": 75,
   "id": "454fc724",
   "metadata": {},
   "outputs": [
    {
     "data": {
      "text/plain": [
       "tuple"
      ]
     },
     "execution_count": 75,
     "metadata": {},
     "output_type": "execute_result"
    }
   ],
   "source": [
    "the_one = \"Neo\",\n",
    "type(the_one)"
   ]
  },
  {
   "cell_type": "code",
   "execution_count": 76,
   "id": "cbfc8587",
   "metadata": {},
   "outputs": [
    {
     "data": {
      "text/plain": [
       "str"
      ]
     },
     "execution_count": 76,
     "metadata": {},
     "output_type": "execute_result"
    }
   ],
   "source": [
    "the_one = (\"Neo\")\n",
    "type(the_one)"
   ]
  },
  {
   "cell_type": "code",
   "execution_count": 77,
   "id": "0d1396b6",
   "metadata": {},
   "outputs": [],
   "source": [
    "house_num,street,postcode = address"
   ]
  },
  {
   "cell_type": "code",
   "execution_count": 78,
   "id": "08014ef7",
   "metadata": {},
   "outputs": [
    {
     "name": "stdout",
     "output_type": "stream",
     "text": [
      "8889 Maitidevi po28973\n"
     ]
    }
   ],
   "source": [
    "print(house_num,street,postcode)"
   ]
  },
  {
   "cell_type": "code",
   "execution_count": 79,
   "id": "eda2039e",
   "metadata": {},
   "outputs": [
    {
     "name": "stdout",
     "output_type": "stream",
     "text": [
      "8889 Maitidevi po28973\n"
     ]
    }
   ],
   "source": [
    "print(*address)"
   ]
  },
  {
   "cell_type": "code",
   "execution_count": 80,
   "id": "9c089cd5",
   "metadata": {},
   "outputs": [
    {
     "name": "stdout",
     "output_type": "stream",
     "text": [
      "(8889, 'Maitidevi', 'po28973')\n"
     ]
    }
   ],
   "source": [
    "print(address)"
   ]
  },
  {
   "cell_type": "code",
   "execution_count": null,
   "id": "52f74214",
   "metadata": {},
   "outputs": [],
   "source": []
  }
 ],
 "metadata": {
  "kernelspec": {
   "display_name": "Python 3",
   "language": "python",
   "name": "python3"
  },
  "language_info": {
   "codemirror_mode": {
    "name": "ipython",
    "version": 3
   },
   "file_extension": ".py",
   "mimetype": "text/x-python",
   "name": "python",
   "nbconvert_exporter": "python",
   "pygments_lexer": "ipython3",
   "version": "3.8.8"
  }
 },
 "nbformat": 4,
 "nbformat_minor": 5
}
