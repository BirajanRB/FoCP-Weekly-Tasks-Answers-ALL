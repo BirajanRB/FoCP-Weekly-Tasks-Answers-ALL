{
 "cells": [
  {
   "cell_type": "code",
   "execution_count": 44,
   "id": "b24c87f6",
   "metadata": {},
   "outputs": [],
   "source": [
    "import math"
   ]
  },
  {
   "cell_type": "code",
   "execution_count": 2,
   "id": "dcce1706",
   "metadata": {},
   "outputs": [
    {
     "name": "stdout",
     "output_type": "stream",
     "text": [
      "49.0\n"
     ]
    }
   ],
   "source": [
    "print(math.sqrt(2401))"
   ]
  },
  {
   "cell_type": "code",
   "execution_count": 3,
   "id": "52bef9a2",
   "metadata": {},
   "outputs": [],
   "source": [
    "from math import log2"
   ]
  },
  {
   "cell_type": "code",
   "execution_count": 4,
   "id": "4be6ff51",
   "metadata": {},
   "outputs": [
    {
     "name": "stdout",
     "output_type": "stream",
     "text": [
      "10.0\n"
     ]
    }
   ],
   "source": [
    "print(log2(1024))"
   ]
  },
  {
   "cell_type": "code",
   "execution_count": 5,
   "id": "ce561729",
   "metadata": {},
   "outputs": [],
   "source": [
    "def displayTwice(msg):\n",
    "    print(msg)\n",
    "    print(msg)"
   ]
  },
  {
   "cell_type": "code",
   "execution_count": 6,
   "id": "2bcd0787",
   "metadata": {},
   "outputs": [
    {
     "name": "stdout",
     "output_type": "stream",
     "text": [
      "Hello world\n",
      "Hello world\n"
     ]
    }
   ],
   "source": [
    "displayTwice(\"Hello world\")"
   ]
  },
  {
   "cell_type": "code",
   "execution_count": 7,
   "id": "c5540c63",
   "metadata": {},
   "outputs": [
    {
     "name": "stdout",
     "output_type": "stream",
     "text": [
      "10\n",
      "10\n"
     ]
    }
   ],
   "source": [
    "displayTwice(10)"
   ]
  },
  {
   "cell_type": "code",
   "execution_count": 9,
   "id": "318b006f",
   "metadata": {},
   "outputs": [
    {
     "name": "stdout",
     "output_type": "stream",
     "text": [
      "10.9\n",
      "10.9\n"
     ]
    }
   ],
   "source": [
    "displayTwice(10.9)"
   ]
  },
  {
   "cell_type": "code",
   "execution_count": 10,
   "id": "69c7d30a",
   "metadata": {},
   "outputs": [],
   "source": [
    "def displayTwice(msg):\n",
    "    \"\"\"A function that prints the given message out twice to the screen.\"\"\"\n",
    "    print(msg)\n",
    "    print(msg)"
   ]
  },
  {
   "cell_type": "code",
   "execution_count": 11,
   "id": "d579f397",
   "metadata": {},
   "outputs": [
    {
     "name": "stdout",
     "output_type": "stream",
     "text": [
      "Help on function displayTwice in module __main__:\n",
      "\n",
      "displayTwice(msg)\n",
      "    A function that prints the given message out twice to the screen.\n",
      "\n"
     ]
    }
   ],
   "source": [
    "help(displayTwice)"
   ]
  },
  {
   "cell_type": "code",
   "execution_count": 1,
   "id": "3d8e0d94",
   "metadata": {},
   "outputs": [],
   "source": [
    "def findMax(a,b):\n",
    "    \"\"\"Finds the maximum of two values.\"\"\"\n",
    "    if ( a > b ):\n",
    "        max = a\n",
    "    else:\n",
    "        max = b\n",
    "    return max"
   ]
  },
  {
   "cell_type": "code",
   "execution_count": 25,
   "id": "8caf7fca",
   "metadata": {},
   "outputs": [
    {
     "name": "stdout",
     "output_type": "stream",
     "text": [
      "5\n"
     ]
    }
   ],
   "source": [
    "print(findMax(2,5))"
   ]
  },
  {
   "cell_type": "code",
   "execution_count": 4,
   "id": "d59a03cd",
   "metadata": {},
   "outputs": [
    {
     "name": "stdout",
     "output_type": "stream",
     "text": [
      "10\n"
     ]
    }
   ],
   "source": [
    "print(findMax(10,5))"
   ]
  },
  {
   "cell_type": "code",
   "execution_count": 6,
   "id": "95e84737",
   "metadata": {},
   "outputs": [
    {
     "name": "stdout",
     "output_type": "stream",
     "text": [
      "7\n"
     ]
    }
   ],
   "source": [
    "print(findMax(0,7))"
   ]
  },
  {
   "cell_type": "code",
   "execution_count": 17,
   "id": "a5f21dc2",
   "metadata": {},
   "outputs": [],
   "source": [
    "def multi(num_1,num_2 = None):\n",
    "    \"\"\"A function that takes two numeric values, multiplies them together then returns the result.\n",
    "    \n",
    "    If the function is called with only a single argument, then the value will be multiplied by itself.\n",
    "    \"\"\"\n",
    "    if num_2 == None:\n",
    "        return num_1*num_1\n",
    "    else:\n",
    "        return num_1*num_2"
   ]
  },
  {
   "cell_type": "code",
   "execution_count": 18,
   "id": "b280ed21",
   "metadata": {},
   "outputs": [
    {
     "data": {
      "text/plain": [
       "4"
      ]
     },
     "execution_count": 18,
     "metadata": {},
     "output_type": "execute_result"
    }
   ],
   "source": [
    "multi(2)"
   ]
  },
  {
   "cell_type": "code",
   "execution_count": 21,
   "id": "2508eaae",
   "metadata": {},
   "outputs": [
    {
     "data": {
      "text/plain": [
       "25"
      ]
     },
     "execution_count": 21,
     "metadata": {},
     "output_type": "execute_result"
    }
   ],
   "source": [
    "multi(5)"
   ]
  },
  {
   "cell_type": "code",
   "execution_count": 20,
   "id": "9b36f6c8",
   "metadata": {},
   "outputs": [
    {
     "data": {
      "text/plain": [
       "16"
      ]
     },
     "execution_count": 20,
     "metadata": {},
     "output_type": "execute_result"
    }
   ],
   "source": [
    "multi(2,8)"
   ]
  },
  {
   "cell_type": "code",
   "execution_count": 23,
   "id": "1cd3cc33",
   "metadata": {},
   "outputs": [],
   "source": [
    "def someFunc(x, y, z):\n",
    "    print(\"x is\", x, \"\\ny is\", y, \"\\nz is\", z)"
   ]
  },
  {
   "cell_type": "code",
   "execution_count": 24,
   "id": "7dbda938",
   "metadata": {},
   "outputs": [
    {
     "name": "stdout",
     "output_type": "stream",
     "text": [
      "x is 3 \n",
      "y is 10 \n",
      "z is 12\n"
     ]
    }
   ],
   "source": [
    "someFunc(z=12,x=3,y=10)"
   ]
  },
  {
   "cell_type": "code",
   "execution_count": 26,
   "id": "641eab27",
   "metadata": {},
   "outputs": [
    {
     "name": "stdout",
     "output_type": "stream",
     "text": [
      "x is 3 \n",
      "y is 10 \n",
      "z is 12\n"
     ]
    }
   ],
   "source": [
    "someFunc(x=3,z=12,y=10)"
   ]
  },
  {
   "cell_type": "code",
   "execution_count": 28,
   "id": "3352eece",
   "metadata": {},
   "outputs": [
    {
     "name": "stdout",
     "output_type": "stream",
     "text": [
      "x is 3 \n",
      "y is 10 \n",
      "z is 12\n"
     ]
    }
   ],
   "source": [
    "someFunc(y=10,x=3,z=12)"
   ]
  },
  {
   "cell_type": "code",
   "execution_count": 32,
   "id": "270bba98",
   "metadata": {},
   "outputs": [
    {
     "name": "stdout",
     "output_type": "stream",
     "text": [
      "hello+world\n"
     ]
    }
   ],
   "source": [
    "print(\"hello\",\"world\",sep='+')"
   ]
  },
  {
   "cell_type": "code",
   "execution_count": 35,
   "id": "33b6d2f1",
   "metadata": {},
   "outputs": [
    {
     "name": "stdout",
     "output_type": "stream",
     "text": [
      "A-1 and A-2 and A-3\n"
     ]
    }
   ],
   "source": [
    "print(\"A-1\",\"A-2\",\"A-3\",sep=\" and \")"
   ]
  },
  {
   "cell_type": "code",
   "execution_count": 36,
   "id": "95860092",
   "metadata": {},
   "outputs": [],
   "source": [
    "def calcAve(*numbers):\n",
    "    total = 0\n",
    "    for num in numbers:\n",
    "        total += num\n",
    "    return total/len(numbers)"
   ]
  },
  {
   "cell_type": "code",
   "execution_count": 37,
   "id": "847b3fb2",
   "metadata": {},
   "outputs": [
    {
     "data": {
      "text/plain": [
       "45.0"
      ]
     },
     "execution_count": 37,
     "metadata": {},
     "output_type": "execute_result"
    }
   ],
   "source": [
    "calcAve(20,30,40,50,60,70)"
   ]
  },
  {
   "cell_type": "code",
   "execution_count": 43,
   "id": "bd78bb15",
   "metadata": {},
   "outputs": [
    {
     "data": {
      "text/plain": [
       "5.5"
      ]
     },
     "execution_count": 43,
     "metadata": {},
     "output_type": "execute_result"
    }
   ],
   "source": [
    "calcAve(1,2,3,4,5,6,7,8,9,10)"
   ]
  },
  {
   "cell_type": "code",
   "execution_count": 45,
   "id": "d06912b6",
   "metadata": {},
   "outputs": [],
   "source": [
    "hypot = lambda a,b : math.sqrt(a * a + b * b)"
   ]
  },
  {
   "cell_type": "code",
   "execution_count": 46,
   "id": "7cb44827",
   "metadata": {},
   "outputs": [
    {
     "data": {
      "text/plain": [
       "5.0"
      ]
     },
     "execution_count": 46,
     "metadata": {},
     "output_type": "execute_result"
    }
   ],
   "source": [
    "hypot(3,4)"
   ]
  },
  {
   "cell_type": "code",
   "execution_count": 47,
   "id": "abb58dc3",
   "metadata": {},
   "outputs": [
    {
     "data": {
      "text/plain": [
       "function"
      ]
     },
     "execution_count": 47,
     "metadata": {},
     "output_type": "execute_result"
    }
   ],
   "source": [
    "type(hypot)"
   ]
  },
  {
   "cell_type": "code",
   "execution_count": 48,
   "id": "c2ae1bd3",
   "metadata": {},
   "outputs": [],
   "source": [
    "to_seconds = lambda hours, minutes: ((hours*60)+minutes)*60"
   ]
  },
  {
   "cell_type": "code",
   "execution_count": 49,
   "id": "57c69271",
   "metadata": {},
   "outputs": [
    {
     "data": {
      "text/plain": [
       "120"
      ]
     },
     "execution_count": 49,
     "metadata": {},
     "output_type": "execute_result"
    }
   ],
   "source": [
    "to_seconds(0,2)"
   ]
  },
  {
   "cell_type": "code",
   "execution_count": 50,
   "id": "77ffc242",
   "metadata": {},
   "outputs": [
    {
     "data": {
      "text/plain": [
       "7200"
      ]
     },
     "execution_count": 50,
     "metadata": {},
     "output_type": "execute_result"
    }
   ],
   "source": [
    "to_seconds(2,0)"
   ]
  },
  {
   "cell_type": "code",
   "execution_count": 51,
   "id": "94d9ac82",
   "metadata": {},
   "outputs": [
    {
     "data": {
      "text/plain": [
       "5400"
      ]
     },
     "execution_count": 51,
     "metadata": {},
     "output_type": "execute_result"
    }
   ],
   "source": [
    "to_seconds(1,30)"
   ]
  },
  {
   "cell_type": "code",
   "execution_count": 52,
   "id": "ec8cbf99",
   "metadata": {},
   "outputs": [],
   "source": [
    "to_seconds = lambda hours, minutes = 0: ((hours*60)+minutes)*60"
   ]
  },
  {
   "cell_type": "code",
   "execution_count": 53,
   "id": "0dcb60fe",
   "metadata": {},
   "outputs": [
    {
     "data": {
      "text/plain": [
       "3600"
      ]
     },
     "execution_count": 53,
     "metadata": {},
     "output_type": "execute_result"
    }
   ],
   "source": [
    "to_seconds(1)"
   ]
  },
  {
   "cell_type": "code",
   "execution_count": 55,
   "id": "144fad7b",
   "metadata": {},
   "outputs": [
    {
     "data": {
      "text/plain": [
       "7200"
      ]
     },
     "execution_count": 55,
     "metadata": {},
     "output_type": "execute_result"
    }
   ],
   "source": [
    "to_seconds(2)"
   ]
  },
  {
   "cell_type": "code",
   "execution_count": null,
   "id": "3544c47c",
   "metadata": {},
   "outputs": [],
   "source": []
  }
 ],
 "metadata": {
  "kernelspec": {
   "display_name": "Python 3",
   "language": "python",
   "name": "python3"
  },
  "language_info": {
   "codemirror_mode": {
    "name": "ipython",
    "version": 3
   },
   "file_extension": ".py",
   "mimetype": "text/x-python",
   "name": "python",
   "nbconvert_exporter": "python",
   "pygments_lexer": "ipython3",
   "version": "3.8.8"
  }
 },
 "nbformat": 4,
 "nbformat_minor": 5
}
